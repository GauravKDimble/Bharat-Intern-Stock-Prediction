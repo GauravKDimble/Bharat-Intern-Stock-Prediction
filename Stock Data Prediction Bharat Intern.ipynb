{
 "cells": [
  {
   "cell_type": "code",
   "execution_count": 1,
   "id": "6c6724b3",
   "metadata": {},
   "outputs": [],
   "source": [
    "import pandas as pd\n",
    "import numpy as np\n",
    "import matplotlib.pyplot as plt\n",
    "from sklearn.preprocessing import MinMaxScaler\n",
    "from keras.models import Sequential\n",
    "from keras.layers import LSTM, Dense"
   ]
  },
  {
   "cell_type": "code",
   "execution_count": 3,
   "id": "fa582281",
   "metadata": {},
   "outputs": [],
   "source": [
    "data = pd.read_csv('C:\\\\Users\\\\Gaurav\\\\Downloads\\\\TSLA.csv')\n",
    "data['Date'] = pd.to_datetime(data['Date'])\n",
    "data = data.set_index('Date')"
   ]
  },
  {
   "cell_type": "code",
   "execution_count": 4,
   "id": "b13f8ca8",
   "metadata": {},
   "outputs": [],
   "source": [
    "closing_prices = data['Close'].values.reshape(-1, 1)"
   ]
  },
  {
   "cell_type": "code",
   "execution_count": 5,
   "id": "bddbd1b4",
   "metadata": {},
   "outputs": [],
   "source": [
    "scaler = MinMaxScaler(feature_range=(0, 1))\n",
    "scaled_prices = scaler.fit_transform(closing_prices)"
   ]
  },
  {
   "cell_type": "code",
   "execution_count": 6,
   "id": "5d863c40",
   "metadata": {},
   "outputs": [],
   "source": [
    "def create_sequences(data, seq_length):\n",
    "    X, y = [], []\n",
    "    for i in range(len(data) - seq_length):\n",
    "        X.append(data[i:i+seq_length])\n",
    "        y.append(data[i+seq_length])\n",
    "    return np.array(X), np.array(y)"
   ]
  },
  {
   "cell_type": "code",
   "execution_count": 7,
   "id": "62d2a066",
   "metadata": {},
   "outputs": [],
   "source": [
    "sequence_length = 60"
   ]
  },
  {
   "cell_type": "code",
   "execution_count": 8,
   "id": "a00fab64",
   "metadata": {},
   "outputs": [],
   "source": [
    "X, y = create_sequences(scaled_prices, sequence_length)"
   ]
  },
  {
   "cell_type": "code",
   "execution_count": 9,
   "id": "d3e3afd7",
   "metadata": {},
   "outputs": [],
   "source": [
    "train_size = int(0.8 * len(X))\n",
    "X_train, X_test = X[:train_size], X[train_size:]\n",
    "y_train, y_test = y[:train_size], y[train_size:]"
   ]
  },
  {
   "cell_type": "code",
   "execution_count": 10,
   "id": "12277da9",
   "metadata": {},
   "outputs": [],
   "source": [
    "model = Sequential()\n",
    "model.add(LSTM(50, input_shape=(sequence_length, 1)))\n",
    "model.add(Dense(1))\n",
    "model.compile(loss='mean_squared_error', optimizer='adam')"
   ]
  },
  {
   "cell_type": "code",
   "execution_count": 11,
   "id": "6ab5a363",
   "metadata": {},
   "outputs": [
    {
     "name": "stdout",
     "output_type": "stream",
     "text": [
      "Epoch 1/100\n",
      "73/73 [==============================] - 5s 16ms/step - loss: 1.6654e-04\n",
      "Epoch 2/100\n",
      "73/73 [==============================] - 1s 15ms/step - loss: 6.1125e-06\n",
      "Epoch 3/100\n",
      "73/73 [==============================] - 1s 15ms/step - loss: 6.0617e-06\n",
      "Epoch 4/100\n",
      "73/73 [==============================] - 1s 15ms/step - loss: 5.4127e-06\n",
      "Epoch 5/100\n",
      "73/73 [==============================] - 1s 15ms/step - loss: 6.1109e-06\n",
      "Epoch 6/100\n",
      "73/73 [==============================] - 1s 16ms/step - loss: 4.9092e-06\n",
      "Epoch 7/100\n",
      "73/73 [==============================] - 1s 15ms/step - loss: 4.7885e-06\n",
      "Epoch 8/100\n",
      "73/73 [==============================] - 1s 14ms/step - loss: 4.6532e-06\n",
      "Epoch 9/100\n",
      "73/73 [==============================] - 1s 14ms/step - loss: 4.5078e-06\n",
      "Epoch 10/100\n",
      "73/73 [==============================] - 1s 17ms/step - loss: 4.3165e-06\n",
      "Epoch 11/100\n",
      "73/73 [==============================] - 1s 16ms/step - loss: 3.9452e-06\n",
      "Epoch 12/100\n",
      "73/73 [==============================] - 1s 17ms/step - loss: 3.8870e-06\n",
      "Epoch 13/100\n",
      "73/73 [==============================] - 1s 17ms/step - loss: 3.8524e-06\n",
      "Epoch 14/100\n",
      "73/73 [==============================] - 1s 14ms/step - loss: 3.6633e-06\n",
      "Epoch 15/100\n",
      "73/73 [==============================] - 1s 15ms/step - loss: 3.6796e-06\n",
      "Epoch 16/100\n",
      "73/73 [==============================] - 1s 15ms/step - loss: 3.6366e-06\n",
      "Epoch 17/100\n",
      "73/73 [==============================] - 1s 14ms/step - loss: 3.6379e-06\n",
      "Epoch 18/100\n",
      "73/73 [==============================] - 1s 15ms/step - loss: 3.3439e-06\n",
      "Epoch 19/100\n",
      "73/73 [==============================] - 1s 14ms/step - loss: 3.4296e-06\n",
      "Epoch 20/100\n",
      "73/73 [==============================] - 1s 13ms/step - loss: 3.2089e-06\n",
      "Epoch 21/100\n",
      "73/73 [==============================] - 1s 14ms/step - loss: 2.9216e-06\n",
      "Epoch 22/100\n",
      "73/73 [==============================] - 1s 14ms/step - loss: 3.0038e-06\n",
      "Epoch 23/100\n",
      "73/73 [==============================] - 1s 15ms/step - loss: 3.1928e-06\n",
      "Epoch 24/100\n",
      "73/73 [==============================] - 1s 16ms/step - loss: 2.8252e-06\n",
      "Epoch 25/100\n",
      "73/73 [==============================] - 1s 15ms/step - loss: 2.7841e-06\n",
      "Epoch 26/100\n",
      "73/73 [==============================] - 1s 16ms/step - loss: 2.5757e-06\n",
      "Epoch 27/100\n",
      "73/73 [==============================] - 1s 15ms/step - loss: 2.9095e-06\n",
      "Epoch 28/100\n",
      "73/73 [==============================] - 1s 15ms/step - loss: 2.8956e-06\n",
      "Epoch 29/100\n",
      "73/73 [==============================] - 1s 15ms/step - loss: 2.5368e-06\n",
      "Epoch 30/100\n",
      "73/73 [==============================] - 1s 15ms/step - loss: 2.5378e-06\n",
      "Epoch 31/100\n",
      "73/73 [==============================] - 1s 14ms/step - loss: 2.4014e-06\n",
      "Epoch 32/100\n",
      "73/73 [==============================] - 1s 15ms/step - loss: 2.5354e-06\n",
      "Epoch 33/100\n",
      "73/73 [==============================] - 1s 15ms/step - loss: 2.7001e-06\n",
      "Epoch 34/100\n",
      "73/73 [==============================] - 1s 15ms/step - loss: 2.2651e-06\n",
      "Epoch 35/100\n",
      "73/73 [==============================] - 1s 15ms/step - loss: 2.4667e-06\n",
      "Epoch 36/100\n",
      "73/73 [==============================] - 1s 16ms/step - loss: 2.3174e-06\n",
      "Epoch 37/100\n",
      "73/73 [==============================] - 1s 18ms/step - loss: 2.2383e-06\n",
      "Epoch 38/100\n",
      "73/73 [==============================] - 1s 16ms/step - loss: 2.3417e-06\n",
      "Epoch 39/100\n",
      "73/73 [==============================] - 1s 16ms/step - loss: 2.2613e-06\n",
      "Epoch 40/100\n",
      "73/73 [==============================] - 1s 16ms/step - loss: 2.1647e-06\n",
      "Epoch 41/100\n",
      "73/73 [==============================] - 1s 16ms/step - loss: 2.0498e-06\n",
      "Epoch 42/100\n",
      "73/73 [==============================] - 1s 15ms/step - loss: 2.2402e-06\n",
      "Epoch 43/100\n",
      "73/73 [==============================] - 1s 16ms/step - loss: 2.0333e-06\n",
      "Epoch 44/100\n",
      "73/73 [==============================] - 1s 16ms/step - loss: 1.9744e-06\n",
      "Epoch 45/100\n",
      "73/73 [==============================] - 1s 16ms/step - loss: 1.9434e-06\n",
      "Epoch 46/100\n",
      "73/73 [==============================] - 1s 17ms/step - loss: 2.0635e-06\n",
      "Epoch 47/100\n",
      "73/73 [==============================] - 1s 18ms/step - loss: 2.2922e-06\n",
      "Epoch 48/100\n",
      "73/73 [==============================] - 1s 16ms/step - loss: 1.9619e-06\n",
      "Epoch 49/100\n",
      "73/73 [==============================] - 1s 19ms/step - loss: 2.0682e-06\n",
      "Epoch 50/100\n",
      "73/73 [==============================] - 1s 18ms/step - loss: 1.9177e-06\n",
      "Epoch 51/100\n",
      "73/73 [==============================] - 1s 18ms/step - loss: 1.9224e-06\n",
      "Epoch 52/100\n",
      "73/73 [==============================] - 1s 18ms/step - loss: 1.7771e-06\n",
      "Epoch 53/100\n",
      "73/73 [==============================] - 1s 16ms/step - loss: 1.8978e-06\n",
      "Epoch 54/100\n",
      "73/73 [==============================] - 1s 17ms/step - loss: 1.7157e-06\n",
      "Epoch 55/100\n",
      "73/73 [==============================] - 1s 17ms/step - loss: 1.8483e-06\n",
      "Epoch 56/100\n",
      "73/73 [==============================] - 1s 17ms/step - loss: 1.9197e-06\n",
      "Epoch 57/100\n",
      "73/73 [==============================] - 1s 17ms/step - loss: 1.7141e-06\n",
      "Epoch 58/100\n",
      "73/73 [==============================] - 1s 19ms/step - loss: 1.6615e-06\n",
      "Epoch 59/100\n",
      "73/73 [==============================] - 1s 17ms/step - loss: 1.8199e-06\n",
      "Epoch 60/100\n",
      "73/73 [==============================] - 1s 18ms/step - loss: 1.8051e-06\n",
      "Epoch 61/100\n",
      "73/73 [==============================] - 1s 17ms/step - loss: 1.6153e-06\n",
      "Epoch 62/100\n",
      "73/73 [==============================] - 1s 16ms/step - loss: 1.6267e-06\n",
      "Epoch 63/100\n",
      "73/73 [==============================] - 1s 16ms/step - loss: 1.6024e-06\n",
      "Epoch 64/100\n",
      "73/73 [==============================] - 1s 16ms/step - loss: 1.6965e-06\n",
      "Epoch 65/100\n",
      "73/73 [==============================] - 1s 15ms/step - loss: 1.8094e-06\n",
      "Epoch 66/100\n",
      "73/73 [==============================] - 1s 15ms/step - loss: 1.6944e-06\n",
      "Epoch 67/100\n",
      "73/73 [==============================] - 1s 16ms/step - loss: 1.6436e-06\n",
      "Epoch 68/100\n",
      "73/73 [==============================] - 1s 15ms/step - loss: 1.5744e-06\n",
      "Epoch 69/100\n",
      "73/73 [==============================] - 1s 15ms/step - loss: 1.5905e-06\n",
      "Epoch 70/100\n",
      "73/73 [==============================] - 1s 16ms/step - loss: 1.4721e-06\n",
      "Epoch 71/100\n",
      "73/73 [==============================] - 1s 18ms/step - loss: 2.1005e-06\n",
      "Epoch 72/100\n",
      "73/73 [==============================] - 1s 17ms/step - loss: 1.5712e-06\n",
      "Epoch 73/100\n",
      "73/73 [==============================] - 1s 17ms/step - loss: 1.7280e-06\n",
      "Epoch 74/100\n",
      "73/73 [==============================] - 1s 18ms/step - loss: 1.3924e-06\n",
      "Epoch 75/100\n",
      "73/73 [==============================] - 1s 16ms/step - loss: 1.4677e-06\n",
      "Epoch 76/100\n",
      "73/73 [==============================] - 1s 16ms/step - loss: 1.5536e-06\n",
      "Epoch 77/100\n",
      "73/73 [==============================] - 1s 16ms/step - loss: 1.5176e-06\n",
      "Epoch 78/100\n",
      "73/73 [==============================] - 1s 17ms/step - loss: 1.5106e-06\n",
      "Epoch 79/100\n",
      "73/73 [==============================] - 1s 17ms/step - loss: 1.4172e-06\n",
      "Epoch 80/100\n",
      "73/73 [==============================] - 1s 16ms/step - loss: 1.4149e-06\n",
      "Epoch 81/100\n",
      "73/73 [==============================] - 1s 17ms/step - loss: 1.3923e-06\n",
      "Epoch 82/100\n",
      "73/73 [==============================] - 1s 18ms/step - loss: 1.4722e-06\n",
      "Epoch 83/100\n",
      "73/73 [==============================] - 1s 17ms/step - loss: 1.4003e-06\n",
      "Epoch 84/100\n",
      "73/73 [==============================] - 1s 17ms/step - loss: 1.3186e-06\n",
      "Epoch 85/100\n",
      "73/73 [==============================] - 1s 16ms/step - loss: 1.4617e-06\n",
      "Epoch 86/100\n",
      "73/73 [==============================] - 1s 15ms/step - loss: 1.4638e-06\n",
      "Epoch 87/100\n",
      "73/73 [==============================] - 1s 16ms/step - loss: 1.3772e-06\n",
      "Epoch 88/100\n",
      "73/73 [==============================] - 1s 18ms/step - loss: 1.3852e-06\n",
      "Epoch 89/100\n",
      "73/73 [==============================] - 1s 16ms/step - loss: 1.5574e-06\n",
      "Epoch 90/100\n",
      "73/73 [==============================] - 1s 17ms/step - loss: 1.2591e-06\n",
      "Epoch 91/100\n",
      "73/73 [==============================] - 1s 17ms/step - loss: 1.4589e-06\n",
      "Epoch 92/100\n",
      "73/73 [==============================] - 1s 17ms/step - loss: 1.3170e-06\n",
      "Epoch 93/100\n",
      "73/73 [==============================] - 1s 16ms/step - loss: 1.2687e-06\n",
      "Epoch 94/100\n",
      "73/73 [==============================] - 1s 17ms/step - loss: 1.3382e-06\n",
      "Epoch 95/100\n",
      "73/73 [==============================] - 1s 16ms/step - loss: 1.3045e-06\n",
      "Epoch 96/100\n"
     ]
    },
    {
     "name": "stdout",
     "output_type": "stream",
     "text": [
      "73/73 [==============================] - 1s 16ms/step - loss: 1.3535e-06\n",
      "Epoch 97/100\n",
      "73/73 [==============================] - 1s 16ms/step - loss: 1.2430e-06\n",
      "Epoch 98/100\n",
      "73/73 [==============================] - 1s 17ms/step - loss: 1.2843e-06\n",
      "Epoch 99/100\n",
      "73/73 [==============================] - 1s 16ms/step - loss: 1.5842e-06\n",
      "Epoch 100/100\n",
      "73/73 [==============================] - 1s 17ms/step - loss: 1.2638e-06\n"
     ]
    },
    {
     "data": {
      "text/plain": [
       "<keras.callbacks.History at 0x1a333349970>"
      ]
     },
     "execution_count": 11,
     "metadata": {},
     "output_type": "execute_result"
    }
   ],
   "source": [
    "\n",
    "model.fit(X_train, y_train, epochs=100, batch_size=32, verbose=1)"
   ]
  },
  {
   "cell_type": "code",
   "execution_count": 12,
   "id": "33431129",
   "metadata": {},
   "outputs": [
    {
     "name": "stdout",
     "output_type": "stream",
     "text": [
      "73/73 [==============================] - 1s 7ms/step\n",
      "19/19 [==============================] - 0s 7ms/step\n"
     ]
    }
   ],
   "source": [
    "train_predictions = model.predict(X_train)\n",
    "test_predictions = model.predict(X_test)"
   ]
  },
  {
   "cell_type": "code",
   "execution_count": 13,
   "id": "0ef78588",
   "metadata": {},
   "outputs": [],
   "source": [
    "train_predictions = scaler.inverse_transform(train_predictions)\n",
    "y_train = scaler.inverse_transform(y_train)\n",
    "test_predictions = scaler.inverse_transform(test_predictions)\n",
    "y_test = scaler.inverse_transform(y_test)"
   ]
  },
  {
   "cell_type": "code",
   "execution_count": 14,
   "id": "df28451e",
   "metadata": {},
   "outputs": [
    {
     "data": {
      "image/png": "[encoded data removed]",
      "text/plain": [
       "<Figure size 864x432 with 1 Axes>"
      ]
     },
     "metadata": {
      "needs_background": "light"
     },
     "output_type": "display_data"
    }
   ],
   "source": [
    "plt.figure(figsize=(12, 6))\n",
    "plt.plot(data.index[sequence_length:train_size+sequence_length], y_train, label='Actual Train Prices')\n",
    "plt.plot(data.index[train_size+sequence_length:], y_test, label='Actual Test Prices')\n",
    "plt.plot(data.index[sequence_length:train_size+sequence_length], train_predictions, label='Predicted Train Prices')\n",
    "plt.plot(data.index[train_size+sequence_length:], test_predictions, label='Predicted Test Prices')\n",
    "plt.xlabel('Date')\n",
    "plt.ylabel('Stock Price')\n",
    "plt.title('Stock Price Prediction using LSTM for Company TESLA')\n",
    "plt.legend()\n",
    "plt.show()"
   ]
  },
  {
   "cell_type": "code",
   "execution_count": null,
   "id": "9f357408",
   "metadata": {},
   "outputs": [],
   "source": []
  }
 ],
 "metadata": {
  "kernelspec": {
   "display_name": "Python 3 (ipykernel)",
   "language": "python",
   "name": "python3"
  },
  "language_info": {
   "codemirror_mode": {
    "name": "ipython",
    "version": 3
   },
   "file_extension": ".py",
   "mimetype": "text/x-python",
   "name": "python",
   "nbconvert_exporter": "python",
   "pygments_lexer": "ipython3",
   "version": "3.9.7"
  }
 },
 "nbformat": 4,
 "nbformat_minor": 5
}
